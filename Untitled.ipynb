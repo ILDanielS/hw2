{
 "cells": [
  {
   "cell_type": "code",
   "execution_count": null,
   "metadata": {},
   "outputs": [],
   "source": [
    "import pickle, gzip\n",
    "import matplotlib.pyplot as plt\n",
    "import os\n",
    "import collections\n",
    "from sklearn.neighbors import KNeighborsClassifier\n",
    "from sklearn.metrics import accuracy_score\n",
    "\n",
    "os.chdir(r'C:\\Users\\danie\\Documents\\Master\\ComputerVision\\HW2')\n",
    "\n",
    "with gzip.open('mnist.pkl.gz', 'rb') as f:\n",
    "    u = pickle._Unpickler(f)\n",
    "    u.encoding = 'latin1'\n",
    "    train_set, valid_set, test_set = u.load()\n",
    "\n",
    "x_train, y_train = train_set\n",
    "x_test, y_test = test_set\n",
    "\n",
    "i = 100\n",
    "im = x_train[i].reshape([28,28])\n",
    "label = y_train[i]\n",
    "\n",
    "plt.figure()\n",
    "plt.imshow(im, cmap='gray', interpolation='nearest')\n",
    "plt.title(label)\n",
    "plt.show()\n",
    "\n",
    "\n",
    "# Displaying the first 12 figures\n",
    "\n",
    "col = 4\n",
    "row = 3\n",
    "fig=plt.figure(figsize=(row, col))\n",
    "\n",
    "for i in range(1, col*row + 1):\n",
    "    fig.add_subplot(row,col,i)\n",
    "    plt.imshow(x_train[i-1].reshape((28,28)), cmap='gray')\n",
    "    plt.title(y_train[i-1])\n",
    "    plt.axis('off')\n",
    "\n",
    "plt.show()\n",
    "\n",
    "print(collections.Counter(y_train))"
   ]
  },
  {
   "cell_type": "code",
   "execution_count": null,
   "metadata": {},
   "outputs": [],
   "source": [
    "# Ex. 1 Calculating accuracy for each k from 1 to 10\n",
    "accuracy_scores = []\n",
    "for k in range(1,11):\n",
    "    print(\"Fitting KNN with k = \" + str(k))\n",
    "    classifier = KNeighborsClassifier(n_neighbors=k)\n",
    "    classifier.fit(x_train, y_train)\n",
    "\n",
    "    print(\"Finished fitting\")\n",
    "\n",
    "    y_pred = classifier.predict(x_test)\n",
    "    accuracy_scores.append(accuracy_score(y_test, y_pred))\n",
    "\n",
    "plt.figure()\n",
    "plt.plot([k for k in range(1,11)], accuracy_scores)\n",
    "plt.xlabel('K')\n",
    "plt.ylabel('Accuracy')\n",
    "plt.show()"
   ]
  }
 ],
 "metadata": {
  "kernelspec": {
   "display_name": "Python 3",
   "language": "python",
   "name": "python3"
  },
  "language_info": {
   "codemirror_mode": {
    "name": "ipython",
    "version": 3
   },
   "file_extension": ".py",
   "mimetype": "text/x-python",
   "name": "python",
   "nbconvert_exporter": "python",
   "pygments_lexer": "ipython3",
   "version": "3.7.4"
  }
 },
 "nbformat": 4,
 "nbformat_minor": 2
}
